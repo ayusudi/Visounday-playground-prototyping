{
  "cells": [
    {
      "cell_type": "markdown",
      "metadata": {
        "id": "kPRtv9ENZWCW"
      },
      "source": [
        "### Video Indexer API Samples (Python)"
      ]
    },
    {
      "cell_type": "markdown",
      "metadata": {
        "id": "pWQR7TtjZWCa"
      },
      "source": [
        "This notebook provides samples for the following operations in Video Indexer:   \n",
        "\n",
        "(1) Get account details.   \n",
        "(2) Upload a video from URL.   \n",
        "(2A) Upload a video from local file.   \n",
        "(3) Wait for the video to finish indexing.   \n",
        "(4) Search for video and get insights.\n",
        "(5) Use the Widgets API.   \n",
        "   \n",
        "Make sure you're logged-in with `az` to authenticate your account.   \n",
        "   \n",
        "Copy the `.env.example` file to a new file named `.env`, and update the values with your own account settings."
      ]
    },
    {
      "cell_type": "code",
      "execution_count": 23,
      "metadata": {
        "colab": {
          "base_uri": "https://localhost:8080/"
        },
        "id": "JObQ18kaa5N1",
        "outputId": "43665927-c59f-413e-a691-6e809b5c37d8"
      },
      "outputs": [
        {
          "name": "stdout",
          "output_type": "stream",
          "text": [
            "Requirement already satisfied: python-dotenv in /opt/miniconda3/lib/python3.12/site-packages (1.0.1)\n",
            "Requirement already satisfied: pprintpp in /opt/miniconda3/lib/python3.12/site-packages (0.4.0)\n",
            "Requirement already satisfied: requests in /opt/miniconda3/lib/python3.12/site-packages (2.31.0)\n",
            "Requirement already satisfied: azure-identity in /opt/miniconda3/lib/python3.12/site-packages (1.16.1)\n",
            "Requirement already satisfied: charset-normalizer<4,>=2 in /opt/miniconda3/lib/python3.12/site-packages (from requests) (2.0.4)\n",
            "Requirement already satisfied: idna<4,>=2.5 in /opt/miniconda3/lib/python3.12/site-packages (from requests) (3.4)\n",
            "Requirement already satisfied: urllib3<3,>=1.21.1 in /opt/miniconda3/lib/python3.12/site-packages (from requests) (2.1.0)\n",
            "Requirement already satisfied: certifi>=2017.4.17 in /opt/miniconda3/lib/python3.12/site-packages (from requests) (2024.2.2)\n",
            "Requirement already satisfied: azure-core>=1.23.0 in /opt/miniconda3/lib/python3.12/site-packages (from azure-identity) (1.30.2)\n",
            "Requirement already satisfied: cryptography>=2.5 in /opt/miniconda3/lib/python3.12/site-packages (from azure-identity) (41.0.7)\n",
            "Requirement already satisfied: msal>=1.24.0 in /opt/miniconda3/lib/python3.12/site-packages (from azure-identity) (1.28.1)\n",
            "Requirement already satisfied: msal-extensions>=0.3.0 in /opt/miniconda3/lib/python3.12/site-packages (from azure-identity) (1.1.0)\n",
            "Requirement already satisfied: six>=1.11.0 in /opt/miniconda3/lib/python3.12/site-packages (from azure-core>=1.23.0->azure-identity) (1.16.0)\n",
            "Requirement already satisfied: typing-extensions>=4.6.0 in /opt/miniconda3/lib/python3.12/site-packages (from azure-core>=1.23.0->azure-identity) (4.11.0)\n",
            "Requirement already satisfied: cffi>=1.12 in /opt/miniconda3/lib/python3.12/site-packages (from cryptography>=2.5->azure-identity) (1.16.0)\n",
            "Requirement already satisfied: PyJWT<3,>=1.0.0 in /opt/miniconda3/lib/python3.12/site-packages (from PyJWT[crypto]<3,>=1.0.0->msal>=1.24.0->azure-identity) (2.8.0)\n",
            "Requirement already satisfied: packaging in /opt/miniconda3/lib/python3.12/site-packages (from msal-extensions>=0.3.0->azure-identity) (23.1)\n",
            "Requirement already satisfied: portalocker<3,>=1.0 in /opt/miniconda3/lib/python3.12/site-packages (from msal-extensions>=0.3.0->azure-identity) (2.8.2)\n",
            "Requirement already satisfied: pycparser in /opt/miniconda3/lib/python3.12/site-packages (from cffi>=1.12->cryptography>=2.5->azure-identity) (2.21)\n",
            "Note: you may need to restart the kernel to use updated packages.\n"
          ]
        }
      ],
      "source": [
        "pip install python-dotenv pprintpp requests azure-identity"
      ]
    },
    {
      "cell_type": "code",
      "execution_count": 24,
      "metadata": {
        "colab": {
          "base_uri": "https://localhost:8080/",
          "height": 367
        },
        "id": "bp7mHTa_ZWCb",
        "outputId": "e5f843e2-affc-4074-c1fb-f3a267fe8702"
      },
      "outputs": [],
      "source": [
        "# imports\n",
        "from dotenv import dotenv_values\n",
        "from pprint import pprint\n",
        "\n",
        "from VideoIndexerClient.Consts import Consts\n",
        "from VideoIndexerClient.VideoIndexerClient import VideoIndexerClient"
      ]
    },
    {
      "cell_type": "markdown",
      "metadata": {
        "id": "8a4g9NtRZWCc"
      },
      "source": [
        "Define the following parameters based on your account settings, in case they are different or not defined as environment variables:"
      ]
    },
    {
      "cell_type": "code",
      "execution_count": 25,
      "metadata": {
        "id": "vFAZ_NvcZWCd"
      },
      "outputs": [],
      "source": [
        "config = dotenv_values(\".env\")\n",
        "\n",
        "AccountName = config.get('AccountName')\n",
        "ResourceGroup = config.get('ResourceGroup')\n",
        "SubscriptionId = config.get('SubscriptionId')\n",
        "\n",
        "ApiVersion = '2024-01-01'\n",
        "ApiEndpoint = 'https://api.videoindexer.ai'\n",
        "AzureResourceManager = 'https://management.azure.com'\n",
        "\n",
        "# create and validate consts\n",
        "consts = Consts(ApiVersion, ApiEndpoint, AzureResourceManager, AccountName, ResourceGroup, SubscriptionId)"
      ]
    },
    {
      "cell_type": "code",
      "execution_count": 26,
      "metadata": {
        "id": "L5U35Th7ZWCd"
      },
      "outputs": [],
      "source": [
        "# Authenticate\n",
        "\n",
        "# create Video Indexer Client\n",
        "client = VideoIndexerClient()\n",
        "\n",
        "# Get access tokens (arm and Video Indexer account)\n",
        "client.authenticate_async(consts)"
      ]
    },
    {
      "cell_type": "markdown",
      "metadata": {
        "id": "uzJoaen1ZWCd"
      },
      "source": [
        "#### Sample 1 - Get Account Basic Details\n",
        "Get account details, not required in most cases."
      ]
    },
    {
      "cell_type": "code",
      "execution_count": 27,
      "metadata": {
        "id": "E9uEA5WoZWCd"
      },
      "outputs": [
        {
          "name": "stdout",
          "output_type": "stream",
          "text": [
            "[Account Details] Id:c42e2686-d0e9-4b33-8bad-af399c54c5fd, Location: eastus2\n"
          ]
        }
      ],
      "source": [
        "client.get_account_async()"
      ]
    },
    {
      "cell_type": "markdown",
      "metadata": {
        "id": "DRqIAyTFZWCd"
      },
      "source": [
        "#### Sample 2\n",
        " - Index a Video From File\n",
        "Upload From Local File.   \n",
        "Define `LocalVideoPath` first."
      ]
    },
    {
      "cell_type": "code",
      "execution_count": 29,
      "metadata": {
        "id": "EftPuUEvZWCe"
      },
      "outputs": [
        {
          "name": "stdout",
          "output_type": "stream",
          "text": [
            "Uploading a local file using multipart/form-data post request..\n"
          ]
        }
      ],
      "source": [
        "LocalVideoPath = 'file_sample.mp4'\n",
        "\n",
        "file_video_id = client.file_upload_async(LocalVideoPath, video_name=None, excluded_ai=ExcludedAI)"
      ]
    },
    {
      "cell_type": "markdown",
      "metadata": {
        "id": "ED_EFCs9ZWCe"
      },
      "source": [
        "#### Sample 3 - Polling on Video Completion Event\n",
        "Wait for the video index to finish (Polling method)."
      ]
    },
    {
      "cell_type": "code",
      "execution_count": null,
      "metadata": {
        "id": "m8GdtZjoZWCe"
      },
      "outputs": [],
      "source": [
        "client.wait_for_index_async(file_video_id)"
      ]
    },
    {
      "cell_type": "markdown",
      "metadata": {
        "id": "dYorw7QQZWCe"
      },
      "source": [
        "#### Sample 4 - Get the Video insights\n",
        "Get the video insights."
      ]
    },
    {
      "cell_type": "code",
      "execution_count": null,
      "metadata": {
        "id": "iXLD3-IpZWCe"
      },
      "outputs": [],
      "source": [
        "insights = client.get_video_async(file_video_id)\n",
        "pprint(insights)\n",
        "# Open file output_sample4.json"
      ]
    },
    {
      "cell_type": "markdown",
      "metadata": {
        "id": "i_0hCbUgZWCe"
      },
      "source": [
        "#### Sample 5 - Widgets API"
      ]
    },
    {
      "cell_type": "code",
      "execution_count": 32,
      "metadata": {
        "id": "Zehvq7OvZWCe"
      },
      "outputs": [
        {
          "name": "stdout",
          "output_type": "stream",
          "text": [
            "Getting the insights widget URL for video rfmqrrypiv\n",
            "Got the insights widget URL: https://www.videoindexer.ai/embed/insights/c42e2686-d0e9-4b33-8bad-af399c54c5fd/rfmqrrypiv/?location=eastus2&widgets=Keywords&accessToken=eyJhbGciOiJSUzI1NiIsInR5cCI6IkpXVCJ9.eyJWZXJzaW9uIjoiMi4wLjAuMCIsIktleVZlcnNpb24iOiI1MTBhNTI4NTRiZjg0MDIwOTZhNDZjN2I0ZWY1NTE4OCIsIkFjY291bnRJZCI6ImM0MmUyNjg2LWQwZTktNGIzMy04YmFkLWFmMzk5YzU0YzVmZCIsIkFjY291bnRUeXBlIjoiQXJtIiwiVmlkZW9JZCI6InJmbXFycnlwaXYiLCJQZXJtaXNzaW9uIjoiQ29udHJpYnV0b3IiLCJFeHRlcm5hbFVzZXJJZCI6IkIzNkYxRkExRjU4NTQ1NEE5NzkzRkEwQ0RCMDI4QjdDIiwiVXNlclR5cGUiOiJNaWNyb3NvZnRDb3JwQWFkIiwiSXNzdWVyTG9jYXRpb24iOiJlYXN0dXMyIiwibmJmIjoxNzE4NTMzMTA3LCJleHAiOjE3MTg1MzcwMDcsImlzcyI6Imh0dHBzOi8vYXBpLnZpZGVvaW5kZXhlci5haS8iLCJhdWQiOiJodHRwczovL2FwaS52aWRlb2luZGV4ZXIuYWkvIn0.gchgyMwZIBigOAPYUtYugHeFiajefFyyyDAcc8noqUxhb7C_PbGV7QIxuMz9p75UOIZFWNnD6Or8auZ7Zlmh7GtpKX_zhBhitl7KeI41uE4vpTeT5MqKragl9PC8GxVv7eVhC0-_jzGzZHT_zEU5imID1HXamF387esJNrxPG_7qZ2c9ipE1nDuJS_q_0vEtm9WSYYBzVxVznoNzVTnpl3D2_MXrGObNSoYabd2OgHTyW97AHr4sI2DIZHYOQ6rTwiXOW603XLW6s9PrkSuQWZek3WK4QSdX0OeBe7FFe5bS1msNDIZHti-yP8mvUlTXYD4irJJwPYNOxrbKobQ2bA\n",
            "Getting the player widget URL for video rfmqrrypiv\n",
            "Got the player widget URL: https://www.videoindexer.ai/embed/player/c42e2686-d0e9-4b33-8bad-af399c54c5fd/rfmqrrypiv/?location=eastus2&accessToken=eyJhbGciOiJSUzI1NiIsInR5cCI6IkpXVCJ9.eyJWZXJzaW9uIjoiMi4wLjAuMCIsIktleVZlcnNpb24iOiI1MTBhNTI4NTRiZjg0MDIwOTZhNDZjN2I0ZWY1NTE4OCIsIkFjY291bnRJZCI6ImM0MmUyNjg2LWQwZTktNGIzMy04YmFkLWFmMzk5YzU0YzVmZCIsIkFjY291bnRUeXBlIjoiQXJtIiwiVmlkZW9JZCI6InJmbXFycnlwaXYiLCJQZXJtaXNzaW9uIjoiQ29udHJpYnV0b3IiLCJFeHRlcm5hbFVzZXJJZCI6IkIzNkYxRkExRjU4NTQ1NEE5NzkzRkEwQ0RCMDI4QjdDIiwiVXNlclR5cGUiOiJNaWNyb3NvZnRDb3JwQWFkIiwiSXNzdWVyTG9jYXRpb24iOiJlYXN0dXMyIiwibmJmIjoxNzE4NTMzMTEwLCJleHAiOjE3MTg1MzcwMTAsImlzcyI6Imh0dHBzOi8vYXBpLnZpZGVvaW5kZXhlci5haS8iLCJhdWQiOiJodHRwczovL2FwaS52aWRlb2luZGV4ZXIuYWkvIn0.l9X0xB-quv2kmrsFgrhqgT8R_zYsJN_eu71yttyqlEBDp8LUuhU4wtRJeXqrrkNu2Vf-4aiBlrZ1-j8eFgO_lBzdHqlStwtEX-EqkNFUfvo6Oe-1IB-kvE4-EJxeZ1OnweHpDND4SK6Qzg6R6QD6JtjllDaXwnf9rpZ_4qAIVKkTFZTTgmPDPrR83RTyKys52mNZAY3qTCIIwhc6UY_TqpKnU5Q-A3B0Vwit0mKLVmO6i8xkL8otJjzSCWW34n3pn0s3wUrpLRsRUYX_yNNygZkPYR-oiushrj_8JgWhS1u84flBgn0T4gJ9n1mPTlQQkGnv6mh68VKQSh82psQy2w\n"
          ]
        }
      ],
      "source": [
        "client.get_insights_widgets_url_async(file_video_id, widget_type='Keywords')\n",
        "client.get_player_widget_url_async(file_video_id)"
      ]
    },
    {
      "cell_type": "markdown",
      "metadata": {
        "id": "WgxdSgrhZWCe"
      },
      "source": [
        "#### Sample 6 - Prompt Content API"
      ]
    },
    {
      "cell_type": "code",
      "execution_count": 33,
      "metadata": {
        "id": "uD8_JAJ5ZWCe"
      },
      "outputs": [
        {
          "name": "stdout",
          "output_type": "stream",
          "text": [
            "Prompt content generation for video_id='rfmqrrypiv' started...\n",
            "Prompt content is not ready yet. Waiting 5 seconds before checking again...\n",
            "Prompt content is not ready yet. Waiting 5 seconds before checking again...\n",
            "Prompt content is not ready yet. Waiting 5 seconds before checking again...\n",
            "Prompt content is not ready yet. Waiting 5 seconds before checking again...\n",
            "{'name': 'file_sample',\n",
            " 'partition': None,\n",
            " 'sections': [{'content': '[Video title] file_sample\\n'\n",
            "                          '[Detected objects] bottle, dining table, weapon\\n'\n",
            "                          '[Visual labels] clothing, indoor, person, footwear, '\n",
            "                          'man, outdoor, sky, arcade, human face\\n'\n",
            "                          '[OCR] MES, MANDARIN ORIENTAL, JOIN IN NOW\\n'\n",
            "                          '[Transcript] Ready.\\n'\n",
            "                          'Ready.',\n",
            "               'end': '0:00:18.7',\n",
            "               'id': 0,\n",
            "               'start': '0:00:00'}]}\n"
          ]
        }
      ],
      "source": [
        "prompt_content = client.get_prompt_content(file_video_id)\n",
        "pprint(prompt_content)"
      ]
    }
  ],
  "metadata": {
    "colab": {
      "provenance": []
    },
    "kernelspec": {
      "display_name": "vi_client",
      "language": "python",
      "name": "python3"
    },
    "language_info": {
      "codemirror_mode": {
        "name": "ipython",
        "version": 3
      },
      "file_extension": ".py",
      "mimetype": "text/x-python",
      "name": "python",
      "nbconvert_exporter": "python",
      "pygments_lexer": "ipython3",
      "version": "3.12.2"
    }
  },
  "nbformat": 4,
  "nbformat_minor": 0
}
